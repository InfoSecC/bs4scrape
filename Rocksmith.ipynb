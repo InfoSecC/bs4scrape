{
 "cells": [
  {
   "cell_type": "code",
   "execution_count": 1,
   "metadata": {
    "collapsed": false
   },
   "outputs": [
    {
     "name": "stdout",
     "output_type": "stream",
     "text": [
      "Python version 3.5.2 (v3.5.2:4def2a2901a5, Jun 26 2016, 10:47:25) \n",
      "[GCC 4.2.1 (Apple Inc. build 5666) (dot 3)]\n",
      "Pandas version 0.19.0\n",
      "Matplotlib version 1.5.3\n"
     ]
    }
   ],
   "source": [
    "from urllib.request import urlopen\n",
    "from bs4 import BeautifulSoup\n",
    "import itertools\n",
    "import csv\n",
    "import os\n",
    "import matplotlib.pyplot as plt\n",
    "import pandas as pd\n",
    "import sys\n",
    "import matplotlib\n",
    "import numpy as np\n",
    "\n",
    "%matplotlib inline\n",
    "\n",
    "# Print Versions\n",
    "print('Python version ' + sys.version)\n",
    "print('Pandas version ' + pd.__version__)\n",
    "print('Matplotlib version ' + matplotlib.__version__)"
   ]
  },
  {
   "cell_type": "code",
   "execution_count": 2,
   "metadata": {
    "collapsed": true
   },
   "outputs": [],
   "source": [
    "if not os.path.exists('./data'):\n",
    "    os.makedirs('./data')"
   ]
  },
  {
   "cell_type": "code",
   "execution_count": 3,
   "metadata": {
    "collapsed": true
   },
   "outputs": [],
   "source": [
    "with open(\"./data/dlc.csv\", \"w\") as csvfile:\n",
    "    csvwriter = csv.writer( csvfile)\n",
    "\n",
    "    html = urlopen(\"http://store.steampowered.com/app/221680/\")\n",
    "    bsObj = BeautifulSoup(html, \"html.parser\")\n",
    "\n",
    "    nameList = bsObj.findAll(\"div\", {\"class\":\"game_area_dlc_name\"})\n",
    "    priceList = bsObj.findAll(\"div\", {\"class\":\"game_area_dlc_price\"})\n",
    "    \n",
    "\n",
    "    for name, price in itertools.zip_longest(list(nameList), list(priceList)):\n",
    "       csvwriter.writerow([(name.get_text()).strip(), (price.get_text()).strip()])\n",
    "pass"
   ]
  },
  {
   "cell_type": "code",
   "execution_count": 4,
   "metadata": {
    "collapsed": true
   },
   "outputs": [],
   "source": [
    "df = pd.read_csv(\"./data/dlc.csv\", header=None)"
   ]
  },
  {
   "cell_type": "code",
   "execution_count": 5,
   "metadata": {
    "collapsed": false
   },
   "outputs": [
    {
     "data": {
      "text/plain": [
       "(803, 2)"
      ]
     },
     "execution_count": 5,
     "metadata": {},
     "output_type": "execute_result"
    }
   ],
   "source": [
    "df.shape"
   ]
  },
  {
   "cell_type": "code",
   "execution_count": 6,
   "metadata": {
    "collapsed": true
   },
   "outputs": [],
   "source": [
    "pack = df[0].str.contains('Song Pack')"
   ]
  },
  {
   "cell_type": "code",
   "execution_count": 7,
   "metadata": {
    "collapsed": true
   },
   "outputs": [],
   "source": [
    "df[pack].to_csv('./data/pack.csv', encoding='utf-8')"
   ]
  },
  {
   "cell_type": "code",
   "execution_count": 8,
   "metadata": {
    "collapsed": true
   },
   "outputs": [],
   "source": [
    "df[df.columns[1:]] = df[df.columns[1:]].apply(lambda x: x.str.replace('$','')).apply(lambda x: x.str.replace(',','')).astype(np.float64)"
   ]
  },
  {
   "cell_type": "code",
   "execution_count": 9,
   "metadata": {
    "collapsed": false
   },
   "outputs": [
    {
     "data": {
      "text/html": [
       "<div>\n",
       "<table border=\"1\" class=\"dataframe\">\n",
       "  <thead>\n",
       "    <tr style=\"text-align: right;\">\n",
       "      <th></th>\n",
       "      <th>0</th>\n",
       "      <th>1</th>\n",
       "    </tr>\n",
       "  </thead>\n",
       "  <tbody>\n",
       "    <tr>\n",
       "      <th>0</th>\n",
       "      <td>Rocksmith® 2014 – Jet - “Are You Gonna Be My G...</td>\n",
       "      <td>2.99</td>\n",
       "    </tr>\n",
       "    <tr>\n",
       "      <th>1</th>\n",
       "      <td>Rocksmith® 2014 – Def Leppard - “Rock of Ages”</td>\n",
       "      <td>2.99</td>\n",
       "    </tr>\n",
       "    <tr>\n",
       "      <th>2</th>\n",
       "      <td>Rocksmith® 2014 – Fleetwood Mac - “Go Your Own...</td>\n",
       "      <td>2.99</td>\n",
       "    </tr>\n",
       "    <tr>\n",
       "      <th>3</th>\n",
       "      <td>Rocksmith® 2014 – Kansas - “Dust In the Wind”</td>\n",
       "      <td>2.99</td>\n",
       "    </tr>\n",
       "    <tr>\n",
       "      <th>4</th>\n",
       "      <td>Rocksmith® 2014 – Hit Singles Song Pack</td>\n",
       "      <td>9.99</td>\n",
       "    </tr>\n",
       "    <tr>\n",
       "      <th>5</th>\n",
       "      <td>Rocksmith® 2014 – The Cure - “Friday I’m In Love”</td>\n",
       "      <td>2.99</td>\n",
       "    </tr>\n",
       "    <tr>\n",
       "      <th>6</th>\n",
       "      <td>Rocksmith® 2014 – Slayer - “Raining Blood”</td>\n",
       "      <td>2.99</td>\n",
       "    </tr>\n",
       "    <tr>\n",
       "      <th>7</th>\n",
       "      <td>Rocksmith® 2014 – Slayer - “Angel of Death”</td>\n",
       "      <td>2.99</td>\n",
       "    </tr>\n",
       "    <tr>\n",
       "      <th>8</th>\n",
       "      <td>Rocksmith® 2014 – Slayer - “Seasons in the Abyss”</td>\n",
       "      <td>2.99</td>\n",
       "    </tr>\n",
       "    <tr>\n",
       "      <th>9</th>\n",
       "      <td>Rocksmith® 2014 – Slayer - “South of Heaven”</td>\n",
       "      <td>2.99</td>\n",
       "    </tr>\n",
       "  </tbody>\n",
       "</table>\n",
       "</div>"
      ],
      "text/plain": [
       "                                                   0     1\n",
       "0  Rocksmith® 2014 – Jet - “Are You Gonna Be My G...  2.99\n",
       "1     Rocksmith® 2014 – Def Leppard - “Rock of Ages”  2.99\n",
       "2  Rocksmith® 2014 – Fleetwood Mac - “Go Your Own...  2.99\n",
       "3      Rocksmith® 2014 – Kansas - “Dust In the Wind”  2.99\n",
       "4            Rocksmith® 2014 – Hit Singles Song Pack  9.99\n",
       "5  Rocksmith® 2014 – The Cure - “Friday I’m In Love”  2.99\n",
       "6         Rocksmith® 2014 – Slayer - “Raining Blood”  2.99\n",
       "7        Rocksmith® 2014 – Slayer - “Angel of Death”  2.99\n",
       "8  Rocksmith® 2014 – Slayer - “Seasons in the Abyss”  2.99\n",
       "9       Rocksmith® 2014 – Slayer - “South of Heaven”  2.99"
      ]
     },
     "execution_count": 9,
     "metadata": {},
     "output_type": "execute_result"
    }
   ],
   "source": [
    "df.head(10)"
   ]
  },
  {
   "cell_type": "code",
   "execution_count": 10,
   "metadata": {
    "collapsed": false
   },
   "outputs": [
    {
     "name": "stdout",
     "output_type": "stream",
     "text": [
      "3493.97\n"
     ]
    }
   ],
   "source": [
    "total = df[1].sum()\n",
    "print (total)"
   ]
  },
  {
   "cell_type": "code",
   "execution_count": 11,
   "metadata": {
    "collapsed": true
   },
   "outputs": [],
   "source": [
    "df2 = pd.read_csv(\"./data/pack.csv\", header=None)"
   ]
  },
  {
   "cell_type": "code",
   "execution_count": 12,
   "metadata": {
    "collapsed": true
   },
   "outputs": [],
   "source": [
    "df2[df2.columns[2:]] = df2[df2.columns[2:]].apply(lambda x: x.str.replace('$','')).apply(lambda x: x.str.replace(',','')).astype(np.float64)"
   ]
  },
  {
   "cell_type": "code",
   "execution_count": 13,
   "metadata": {
    "collapsed": false
   },
   "outputs": [
    {
     "data": {
      "text/plain": [
       "(152, 3)"
      ]
     },
     "execution_count": 13,
     "metadata": {},
     "output_type": "execute_result"
    }
   ],
   "source": [
    "df2.shape"
   ]
  },
  {
   "cell_type": "code",
   "execution_count": 14,
   "metadata": {
    "collapsed": true
   },
   "outputs": [],
   "source": [
    "df2.columns = [\"List #\", \"Song / Song Pack\", \"Price\"]"
   ]
  },
  {
   "cell_type": "code",
   "execution_count": 15,
   "metadata": {
    "collapsed": false
   },
   "outputs": [
    {
     "data": {
      "text/html": [
       "<div>\n",
       "<table border=\"1\" class=\"dataframe\">\n",
       "  <thead>\n",
       "    <tr style=\"text-align: right;\">\n",
       "      <th></th>\n",
       "      <th>List #</th>\n",
       "      <th>Song / Song Pack</th>\n",
       "      <th>Price</th>\n",
       "    </tr>\n",
       "  </thead>\n",
       "  <tbody>\n",
       "    <tr>\n",
       "      <th>0</th>\n",
       "      <td>NaN</td>\n",
       "      <td>0</td>\n",
       "      <td>1.00</td>\n",
       "    </tr>\n",
       "    <tr>\n",
       "      <th>1</th>\n",
       "      <td>4.0</td>\n",
       "      <td>Rocksmith® 2014 – Hit Singles Song Pack</td>\n",
       "      <td>9.99</td>\n",
       "    </tr>\n",
       "    <tr>\n",
       "      <th>2</th>\n",
       "      <td>11.0</td>\n",
       "      <td>Rocksmith® 2014 – Slayer Song Pack</td>\n",
       "      <td>11.99</td>\n",
       "    </tr>\n",
       "    <tr>\n",
       "      <th>3</th>\n",
       "      <td>15.0</td>\n",
       "      <td>Rocksmith® 2014 – All That Remains Song Pack</td>\n",
       "      <td>7.99</td>\n",
       "    </tr>\n",
       "    <tr>\n",
       "      <th>4</th>\n",
       "      <td>21.0</td>\n",
       "      <td>Rocksmith® 2014 – Blues Song Pack</td>\n",
       "      <td>11.99</td>\n",
       "    </tr>\n",
       "    <tr>\n",
       "      <th>5</th>\n",
       "      <td>25.0</td>\n",
       "      <td>Rocksmith® 2014 – Dethklok Song Pack</td>\n",
       "      <td>7.99</td>\n",
       "    </tr>\n",
       "    <tr>\n",
       "      <th>6</th>\n",
       "      <td>31.0</td>\n",
       "      <td>Rocksmith® 2014 – Alt-Rock Song Pack</td>\n",
       "      <td>11.99</td>\n",
       "    </tr>\n",
       "    <tr>\n",
       "      <th>7</th>\n",
       "      <td>35.0</td>\n",
       "      <td>Rocksmith® 2014 – Thin Lizzy Song Pack</td>\n",
       "      <td>7.99</td>\n",
       "    </tr>\n",
       "    <tr>\n",
       "      <th>8</th>\n",
       "      <td>40.0</td>\n",
       "      <td>Rocksmith® 2014 – Bush Song Pack</td>\n",
       "      <td>9.99</td>\n",
       "    </tr>\n",
       "    <tr>\n",
       "      <th>9</th>\n",
       "      <td>46.0</td>\n",
       "      <td>Rocksmith® 2014 – Spinal Tap Song Pack</td>\n",
       "      <td>11.99</td>\n",
       "    </tr>\n",
       "  </tbody>\n",
       "</table>\n",
       "</div>"
      ],
      "text/plain": [
       "   List #                              Song / Song Pack  Price\n",
       "0     NaN                                             0   1.00\n",
       "1     4.0       Rocksmith® 2014 – Hit Singles Song Pack   9.99\n",
       "2    11.0            Rocksmith® 2014 – Slayer Song Pack  11.99\n",
       "3    15.0  Rocksmith® 2014 – All That Remains Song Pack   7.99\n",
       "4    21.0             Rocksmith® 2014 – Blues Song Pack  11.99\n",
       "5    25.0          Rocksmith® 2014 – Dethklok Song Pack   7.99\n",
       "6    31.0          Rocksmith® 2014 – Alt-Rock Song Pack  11.99\n",
       "7    35.0        Rocksmith® 2014 – Thin Lizzy Song Pack   7.99\n",
       "8    40.0              Rocksmith® 2014 – Bush Song Pack   9.99\n",
       "9    46.0        Rocksmith® 2014 – Spinal Tap Song Pack  11.99"
      ]
     },
     "execution_count": 15,
     "metadata": {},
     "output_type": "execute_result"
    }
   ],
   "source": [
    "df2.head(10)"
   ]
  },
  {
   "cell_type": "code",
   "execution_count": 16,
   "metadata": {
    "collapsed": false
   },
   "outputs": [],
   "source": [
    "df2 = df2[df2['Price'] != 1.00]\n",
    "df2 = df2.drop('List #', 1)"
   ]
  },
  {
   "cell_type": "code",
   "execution_count": 17,
   "metadata": {
    "collapsed": false
   },
   "outputs": [
    {
     "data": {
      "text/html": [
       "<div>\n",
       "<table border=\"1\" class=\"dataframe\">\n",
       "  <thead>\n",
       "    <tr style=\"text-align: right;\">\n",
       "      <th></th>\n",
       "      <th>Song / Song Pack</th>\n",
       "      <th>Price</th>\n",
       "    </tr>\n",
       "  </thead>\n",
       "  <tbody>\n",
       "    <tr>\n",
       "      <th>1</th>\n",
       "      <td>Rocksmith® 2014 – Hit Singles Song Pack</td>\n",
       "      <td>9.99</td>\n",
       "    </tr>\n",
       "    <tr>\n",
       "      <th>2</th>\n",
       "      <td>Rocksmith® 2014 – Slayer Song Pack</td>\n",
       "      <td>11.99</td>\n",
       "    </tr>\n",
       "    <tr>\n",
       "      <th>3</th>\n",
       "      <td>Rocksmith® 2014 – All That Remains Song Pack</td>\n",
       "      <td>7.99</td>\n",
       "    </tr>\n",
       "    <tr>\n",
       "      <th>4</th>\n",
       "      <td>Rocksmith® 2014 – Blues Song Pack</td>\n",
       "      <td>11.99</td>\n",
       "    </tr>\n",
       "    <tr>\n",
       "      <th>5</th>\n",
       "      <td>Rocksmith® 2014 – Dethklok Song Pack</td>\n",
       "      <td>7.99</td>\n",
       "    </tr>\n",
       "    <tr>\n",
       "      <th>6</th>\n",
       "      <td>Rocksmith® 2014 – Alt-Rock Song Pack</td>\n",
       "      <td>11.99</td>\n",
       "    </tr>\n",
       "    <tr>\n",
       "      <th>7</th>\n",
       "      <td>Rocksmith® 2014 – Thin Lizzy Song Pack</td>\n",
       "      <td>7.99</td>\n",
       "    </tr>\n",
       "    <tr>\n",
       "      <th>8</th>\n",
       "      <td>Rocksmith® 2014 – Bush Song Pack</td>\n",
       "      <td>9.99</td>\n",
       "    </tr>\n",
       "    <tr>\n",
       "      <th>9</th>\n",
       "      <td>Rocksmith® 2014 – Spinal Tap Song Pack</td>\n",
       "      <td>11.99</td>\n",
       "    </tr>\n",
       "    <tr>\n",
       "      <th>10</th>\n",
       "      <td>Rocksmith® 2014 – Anthrax Song Pack</td>\n",
       "      <td>9.99</td>\n",
       "    </tr>\n",
       "  </tbody>\n",
       "</table>\n",
       "</div>"
      ],
      "text/plain": [
       "                                Song / Song Pack  Price\n",
       "1        Rocksmith® 2014 – Hit Singles Song Pack   9.99\n",
       "2             Rocksmith® 2014 – Slayer Song Pack  11.99\n",
       "3   Rocksmith® 2014 – All That Remains Song Pack   7.99\n",
       "4              Rocksmith® 2014 – Blues Song Pack  11.99\n",
       "5           Rocksmith® 2014 – Dethklok Song Pack   7.99\n",
       "6           Rocksmith® 2014 – Alt-Rock Song Pack  11.99\n",
       "7         Rocksmith® 2014 – Thin Lizzy Song Pack   7.99\n",
       "8               Rocksmith® 2014 – Bush Song Pack   9.99\n",
       "9         Rocksmith® 2014 – Spinal Tap Song Pack  11.99\n",
       "10           Rocksmith® 2014 – Anthrax Song Pack   9.99"
      ]
     },
     "execution_count": 17,
     "metadata": {},
     "output_type": "execute_result"
    }
   ],
   "source": [
    "df2.head(10)"
   ]
  },
  {
   "cell_type": "code",
   "execution_count": 18,
   "metadata": {
    "collapsed": false,
    "scrolled": true
   },
   "outputs": [
    {
     "data": {
      "text/html": [
       "<div>\n",
       "<table border=\"1\" class=\"dataframe\">\n",
       "  <thead>\n",
       "    <tr style=\"text-align: right;\">\n",
       "      <th></th>\n",
       "      <th>Song / Song Pack</th>\n",
       "      <th>Price</th>\n",
       "    </tr>\n",
       "  </thead>\n",
       "  <tbody>\n",
       "    <tr>\n",
       "      <th>24</th>\n",
       "      <td>Rocksmith® 2014 – Jimi Hendrix Song Pack (I-II...</td>\n",
       "      <td>29.99</td>\n",
       "    </tr>\n",
       "    <tr>\n",
       "      <th>19</th>\n",
       "      <td>Rocksmith® 2014 – Rage Against the Machine Son...</td>\n",
       "      <td>15.99</td>\n",
       "    </tr>\n",
       "    <tr>\n",
       "      <th>108</th>\n",
       "      <td>Rocksmith® 2014 – Stone Temple Pilots Song Pack</td>\n",
       "      <td>13.99</td>\n",
       "    </tr>\n",
       "    <tr>\n",
       "      <th>25</th>\n",
       "      <td>Rocksmith® 2014 – Linkin Park Song Pack</td>\n",
       "      <td>13.99</td>\n",
       "    </tr>\n",
       "    <tr>\n",
       "      <th>147</th>\n",
       "      <td>Rocksmith® 2014 – Anniversary Song Pack</td>\n",
       "      <td>13.99</td>\n",
       "    </tr>\n",
       "    <tr>\n",
       "      <th>76</th>\n",
       "      <td>Rocksmith® 2014 – Alice in Chains Song Pack</td>\n",
       "      <td>11.99</td>\n",
       "    </tr>\n",
       "    <tr>\n",
       "      <th>51</th>\n",
       "      <td>Rocksmith® 2014 – Cake Song Pack</td>\n",
       "      <td>11.99</td>\n",
       "    </tr>\n",
       "    <tr>\n",
       "      <th>110</th>\n",
       "      <td>Rocksmith® 2014 – Thirty Seconds to Mars Song ...</td>\n",
       "      <td>11.99</td>\n",
       "    </tr>\n",
       "    <tr>\n",
       "      <th>111</th>\n",
       "      <td>Rocksmith® 2014 – Megadeth Song Pack II</td>\n",
       "      <td>11.99</td>\n",
       "    </tr>\n",
       "    <tr>\n",
       "      <th>113</th>\n",
       "      <td>Rocksmith® 2014 – The Offspring Song Pack II</td>\n",
       "      <td>11.99</td>\n",
       "    </tr>\n",
       "    <tr>\n",
       "      <th>49</th>\n",
       "      <td>Rocksmith® 2014 – Sum 41 Song Pack</td>\n",
       "      <td>11.99</td>\n",
       "    </tr>\n",
       "    <tr>\n",
       "      <th>59</th>\n",
       "      <td>Rocksmith® 2014 – A Day To Remember Song Pack</td>\n",
       "      <td>11.99</td>\n",
       "    </tr>\n",
       "    <tr>\n",
       "      <th>48</th>\n",
       "      <td>Rocksmith® 2014 – Godsmack Song Pack</td>\n",
       "      <td>11.99</td>\n",
       "    </tr>\n",
       "    <tr>\n",
       "      <th>116</th>\n",
       "      <td>Rocksmith® 2014 – My Chemical Romance Song Pac...</td>\n",
       "      <td>11.99</td>\n",
       "    </tr>\n",
       "    <tr>\n",
       "      <th>46</th>\n",
       "      <td>Rocksmith® 2014 – Billy Talent Song Pack</td>\n",
       "      <td>11.99</td>\n",
       "    </tr>\n",
       "    <tr>\n",
       "      <th>117</th>\n",
       "      <td>Rocksmith® 2014 – Women Who Rock Song Pack</td>\n",
       "      <td>11.99</td>\n",
       "    </tr>\n",
       "    <tr>\n",
       "      <th>118</th>\n",
       "      <td>Rocksmith® 2014 – Collective Soul Song Pack</td>\n",
       "      <td>11.99</td>\n",
       "    </tr>\n",
       "    <tr>\n",
       "      <th>42</th>\n",
       "      <td>Rocksmith® 2014 – Biffy Clyro Song Pack</td>\n",
       "      <td>11.99</td>\n",
       "    </tr>\n",
       "    <tr>\n",
       "      <th>82</th>\n",
       "      <td>Rocksmith® 2014 – Rockabilly Song Pack</td>\n",
       "      <td>11.99</td>\n",
       "    </tr>\n",
       "    <tr>\n",
       "      <th>58</th>\n",
       "      <td>Rocksmith® 2014 – Matchbox Twenty Song Pack</td>\n",
       "      <td>11.99</td>\n",
       "    </tr>\n",
       "    <tr>\n",
       "      <th>107</th>\n",
       "      <td>Rocksmith® 2014 – Mötley Crüe Song Pack</td>\n",
       "      <td>11.99</td>\n",
       "    </tr>\n",
       "    <tr>\n",
       "      <th>39</th>\n",
       "      <td>Rocksmith® 2014 – Sublime Song Pack</td>\n",
       "      <td>11.99</td>\n",
       "    </tr>\n",
       "    <tr>\n",
       "      <th>73</th>\n",
       "      <td>Rocksmith® 2014 – Radiohead Song Pack</td>\n",
       "      <td>11.99</td>\n",
       "    </tr>\n",
       "    <tr>\n",
       "      <th>79</th>\n",
       "      <td>Rocksmith® 2014 – The Smashing Pumpkins Song Pack</td>\n",
       "      <td>11.99</td>\n",
       "    </tr>\n",
       "    <tr>\n",
       "      <th>78</th>\n",
       "      <td>Rocksmith® 2014 – Iron Maiden Song Pack</td>\n",
       "      <td>11.99</td>\n",
       "    </tr>\n",
       "    <tr>\n",
       "      <th>86</th>\n",
       "      <td>Rocksmith® 2014 – Volbeat Song Pack</td>\n",
       "      <td>11.99</td>\n",
       "    </tr>\n",
       "    <tr>\n",
       "      <th>2</th>\n",
       "      <td>Rocksmith® 2014 – Slayer Song Pack</td>\n",
       "      <td>11.99</td>\n",
       "    </tr>\n",
       "    <tr>\n",
       "      <th>88</th>\n",
       "      <td>Rocksmith® 2014 – Regal Singles Song Pack</td>\n",
       "      <td>11.99</td>\n",
       "    </tr>\n",
       "    <tr>\n",
       "      <th>89</th>\n",
       "      <td>Rocksmith® 2014 – Faith No More Song Pack</td>\n",
       "      <td>11.99</td>\n",
       "    </tr>\n",
       "    <tr>\n",
       "      <th>72</th>\n",
       "      <td>Rocksmith® 2014 – The Who Song Pack</td>\n",
       "      <td>11.99</td>\n",
       "    </tr>\n",
       "    <tr>\n",
       "      <th>...</th>\n",
       "      <td>...</td>\n",
       "      <td>...</td>\n",
       "    </tr>\n",
       "    <tr>\n",
       "      <th>85</th>\n",
       "      <td>Rocksmith® 2014 – Classic Country Song Pack</td>\n",
       "      <td>7.99</td>\n",
       "    </tr>\n",
       "    <tr>\n",
       "      <th>77</th>\n",
       "      <td>Rocksmith® 2014 – Hotei Song Pack</td>\n",
       "      <td>7.99</td>\n",
       "    </tr>\n",
       "    <tr>\n",
       "      <th>87</th>\n",
       "      <td>Rocksmith® 2014 – Lynyrd Skynyrd Song Pack</td>\n",
       "      <td>7.99</td>\n",
       "    </tr>\n",
       "    <tr>\n",
       "      <th>75</th>\n",
       "      <td>Rocksmith® 2014 – Green Day Song Pack</td>\n",
       "      <td>7.99</td>\n",
       "    </tr>\n",
       "    <tr>\n",
       "      <th>74</th>\n",
       "      <td>Rocksmith® 2014 – B’z Song Pack</td>\n",
       "      <td>7.99</td>\n",
       "    </tr>\n",
       "    <tr>\n",
       "      <th>90</th>\n",
       "      <td>Rocksmith® 2014 – 1950s Song Pack</td>\n",
       "      <td>7.99</td>\n",
       "    </tr>\n",
       "    <tr>\n",
       "      <th>71</th>\n",
       "      <td>Rocksmith® 2014 – Disturbed Song Pack</td>\n",
       "      <td>7.99</td>\n",
       "    </tr>\n",
       "    <tr>\n",
       "      <th>92</th>\n",
       "      <td>Rocksmith® 2014 – The Stone Roses Song Pack</td>\n",
       "      <td>7.99</td>\n",
       "    </tr>\n",
       "    <tr>\n",
       "      <th>93</th>\n",
       "      <td>Rocksmith® 2014 – Earth, Wind &amp; Fire Song Pack</td>\n",
       "      <td>7.99</td>\n",
       "    </tr>\n",
       "    <tr>\n",
       "      <th>94</th>\n",
       "      <td>Rocksmith® 2014 – The All-American Rejects Son...</td>\n",
       "      <td>7.99</td>\n",
       "    </tr>\n",
       "    <tr>\n",
       "      <th>95</th>\n",
       "      <td>Rocksmith® 2014 – The Doors Song Pack II</td>\n",
       "      <td>7.99</td>\n",
       "    </tr>\n",
       "    <tr>\n",
       "      <th>96</th>\n",
       "      <td>Rocksmith® 2014 – Breaking Benjamin Song Pack</td>\n",
       "      <td>7.99</td>\n",
       "    </tr>\n",
       "    <tr>\n",
       "      <th>97</th>\n",
       "      <td>Rocksmith® 2014 – Brand New Song Pack</td>\n",
       "      <td>7.99</td>\n",
       "    </tr>\n",
       "    <tr>\n",
       "      <th>98</th>\n",
       "      <td>Rocksmith® 2014 – Blues Rock Song Pack</td>\n",
       "      <td>7.99</td>\n",
       "    </tr>\n",
       "    <tr>\n",
       "      <th>99</th>\n",
       "      <td>Rocksmith® 2014 – Kiss Song Pack II</td>\n",
       "      <td>7.99</td>\n",
       "    </tr>\n",
       "    <tr>\n",
       "      <th>100</th>\n",
       "      <td>Rocksmith® 2014 – All Time Low Song Pack</td>\n",
       "      <td>7.99</td>\n",
       "    </tr>\n",
       "    <tr>\n",
       "      <th>69</th>\n",
       "      <td>Rocksmith® 2014 – Golden Bomber Song Pack</td>\n",
       "      <td>7.99</td>\n",
       "    </tr>\n",
       "    <tr>\n",
       "      <th>65</th>\n",
       "      <td>Rocksmith® 2014 – System of a Down Song Pack</td>\n",
       "      <td>7.99</td>\n",
       "    </tr>\n",
       "    <tr>\n",
       "      <th>63</th>\n",
       "      <td>Rocksmith® 2014 – Kiss Song Pack</td>\n",
       "      <td>7.99</td>\n",
       "    </tr>\n",
       "    <tr>\n",
       "      <th>61</th>\n",
       "      <td>Rocksmith® 2014 – The Doors Song Pack</td>\n",
       "      <td>7.99</td>\n",
       "    </tr>\n",
       "    <tr>\n",
       "      <th>105</th>\n",
       "      <td>Rocksmith® 2014 – Skillet Song Pack</td>\n",
       "      <td>7.99</td>\n",
       "    </tr>\n",
       "    <tr>\n",
       "      <th>106</th>\n",
       "      <td>Rocksmith® 2014 – Tenacious D Song Pack</td>\n",
       "      <td>7.99</td>\n",
       "    </tr>\n",
       "    <tr>\n",
       "      <th>60</th>\n",
       "      <td>Rocksmith® 2014 – Boston Song Pack</td>\n",
       "      <td>7.99</td>\n",
       "    </tr>\n",
       "    <tr>\n",
       "      <th>56</th>\n",
       "      <td>Rocksmith® 2014 – Bob Dylan Song Pack</td>\n",
       "      <td>7.99</td>\n",
       "    </tr>\n",
       "    <tr>\n",
       "      <th>55</th>\n",
       "      <td>Rocksmith® 2014 – Garbage Song Pack</td>\n",
       "      <td>7.99</td>\n",
       "    </tr>\n",
       "    <tr>\n",
       "      <th>112</th>\n",
       "      <td>Rocksmith® 2014 – 38 Special Song Pack</td>\n",
       "      <td>7.99</td>\n",
       "    </tr>\n",
       "    <tr>\n",
       "      <th>53</th>\n",
       "      <td>Rocksmith® 2014 – 311 Song Pack</td>\n",
       "      <td>7.99</td>\n",
       "    </tr>\n",
       "    <tr>\n",
       "      <th>52</th>\n",
       "      <td>Rocksmith® 2014 – Mastodon Song Pack</td>\n",
       "      <td>7.99</td>\n",
       "    </tr>\n",
       "    <tr>\n",
       "      <th>50</th>\n",
       "      <td>Rocksmith® 2014 – Slash Song Pack</td>\n",
       "      <td>7.99</td>\n",
       "    </tr>\n",
       "    <tr>\n",
       "      <th>45</th>\n",
       "      <td>Rocksmith® 2014 – The Libertines Song Pack</td>\n",
       "      <td>7.99</td>\n",
       "    </tr>\n",
       "  </tbody>\n",
       "</table>\n",
       "<p>151 rows × 2 columns</p>\n",
       "</div>"
      ],
      "text/plain": [
       "                                      Song / Song Pack  Price\n",
       "24   Rocksmith® 2014 – Jimi Hendrix Song Pack (I-II...  29.99\n",
       "19   Rocksmith® 2014 – Rage Against the Machine Son...  15.99\n",
       "108    Rocksmith® 2014 – Stone Temple Pilots Song Pack  13.99\n",
       "25             Rocksmith® 2014 – Linkin Park Song Pack  13.99\n",
       "147            Rocksmith® 2014 – Anniversary Song Pack  13.99\n",
       "76         Rocksmith® 2014 – Alice in Chains Song Pack  11.99\n",
       "51                    Rocksmith® 2014 – Cake Song Pack  11.99\n",
       "110  Rocksmith® 2014 – Thirty Seconds to Mars Song ...  11.99\n",
       "111            Rocksmith® 2014 – Megadeth Song Pack II  11.99\n",
       "113       Rocksmith® 2014 – The Offspring Song Pack II  11.99\n",
       "49                  Rocksmith® 2014 – Sum 41 Song Pack  11.99\n",
       "59       Rocksmith® 2014 – A Day To Remember Song Pack  11.99\n",
       "48                Rocksmith® 2014 – Godsmack Song Pack  11.99\n",
       "116  Rocksmith® 2014 – My Chemical Romance Song Pac...  11.99\n",
       "46            Rocksmith® 2014 – Billy Talent Song Pack  11.99\n",
       "117         Rocksmith® 2014 – Women Who Rock Song Pack  11.99\n",
       "118        Rocksmith® 2014 – Collective Soul Song Pack  11.99\n",
       "42             Rocksmith® 2014 – Biffy Clyro Song Pack  11.99\n",
       "82              Rocksmith® 2014 – Rockabilly Song Pack  11.99\n",
       "58         Rocksmith® 2014 – Matchbox Twenty Song Pack  11.99\n",
       "107            Rocksmith® 2014 – Mötley Crüe Song Pack  11.99\n",
       "39                 Rocksmith® 2014 – Sublime Song Pack  11.99\n",
       "73               Rocksmith® 2014 – Radiohead Song Pack  11.99\n",
       "79   Rocksmith® 2014 – The Smashing Pumpkins Song Pack  11.99\n",
       "78             Rocksmith® 2014 – Iron Maiden Song Pack  11.99\n",
       "86                 Rocksmith® 2014 – Volbeat Song Pack  11.99\n",
       "2                   Rocksmith® 2014 – Slayer Song Pack  11.99\n",
       "88           Rocksmith® 2014 – Regal Singles Song Pack  11.99\n",
       "89           Rocksmith® 2014 – Faith No More Song Pack  11.99\n",
       "72                 Rocksmith® 2014 – The Who Song Pack  11.99\n",
       "..                                                 ...    ...\n",
       "85         Rocksmith® 2014 – Classic Country Song Pack   7.99\n",
       "77                   Rocksmith® 2014 – Hotei Song Pack   7.99\n",
       "87          Rocksmith® 2014 – Lynyrd Skynyrd Song Pack   7.99\n",
       "75               Rocksmith® 2014 – Green Day Song Pack   7.99\n",
       "74                     Rocksmith® 2014 – B’z Song Pack   7.99\n",
       "90                   Rocksmith® 2014 – 1950s Song Pack   7.99\n",
       "71               Rocksmith® 2014 – Disturbed Song Pack   7.99\n",
       "92         Rocksmith® 2014 – The Stone Roses Song Pack   7.99\n",
       "93      Rocksmith® 2014 – Earth, Wind & Fire Song Pack   7.99\n",
       "94   Rocksmith® 2014 – The All-American Rejects Son...   7.99\n",
       "95            Rocksmith® 2014 – The Doors Song Pack II   7.99\n",
       "96       Rocksmith® 2014 – Breaking Benjamin Song Pack   7.99\n",
       "97               Rocksmith® 2014 – Brand New Song Pack   7.99\n",
       "98              Rocksmith® 2014 – Blues Rock Song Pack   7.99\n",
       "99                 Rocksmith® 2014 – Kiss Song Pack II   7.99\n",
       "100           Rocksmith® 2014 – All Time Low Song Pack   7.99\n",
       "69           Rocksmith® 2014 – Golden Bomber Song Pack   7.99\n",
       "65        Rocksmith® 2014 – System of a Down Song Pack   7.99\n",
       "63                    Rocksmith® 2014 – Kiss Song Pack   7.99\n",
       "61               Rocksmith® 2014 – The Doors Song Pack   7.99\n",
       "105                Rocksmith® 2014 – Skillet Song Pack   7.99\n",
       "106            Rocksmith® 2014 – Tenacious D Song Pack   7.99\n",
       "60                  Rocksmith® 2014 – Boston Song Pack   7.99\n",
       "56               Rocksmith® 2014 – Bob Dylan Song Pack   7.99\n",
       "55                 Rocksmith® 2014 – Garbage Song Pack   7.99\n",
       "112             Rocksmith® 2014 – 38 Special Song Pack   7.99\n",
       "53                     Rocksmith® 2014 – 311 Song Pack   7.99\n",
       "52                Rocksmith® 2014 – Mastodon Song Pack   7.99\n",
       "50                   Rocksmith® 2014 – Slash Song Pack   7.99\n",
       "45          Rocksmith® 2014 – The Libertines Song Pack   7.99\n",
       "\n",
       "[151 rows x 2 columns]"
      ]
     },
     "execution_count": 18,
     "metadata": {},
     "output_type": "execute_result"
    }
   ],
   "source": [
    "df2.sort_values(by='Price', ascending=0)"
   ]
  },
  {
   "cell_type": "code",
   "execution_count": 19,
   "metadata": {
    "collapsed": false,
    "scrolled": true
   },
   "outputs": [
    {
     "data": {
      "text/plain": [
       "<matplotlib.axes._subplots.AxesSubplot at 0x10cc98b00>"
      ]
     },
     "execution_count": 19,
     "metadata": {},
     "output_type": "execute_result"
    },
    {
     "data": {
      "image/png": "[encoded data removed]",
      "text/plain": [
       "<matplotlib.figure.Figure at 0x10cce0eb8>"
      ]
     },
     "metadata": {},
     "output_type": "display_data"
    }
   ],
   "source": [
    "pack_price = df2.sort_values(by='Price', ascending=0)['Price']\n",
    "pack_price[:151].plot(kind='bar', figsize=(40, 20))\n",
    "# Graph of Prices"
   ]
  },
  {
   "cell_type": "code",
   "execution_count": 20,
   "metadata": {
    "collapsed": false
   },
   "outputs": [
    {
     "name": "stdout",
     "output_type": "stream",
     "text": [
      "1534.49\n"
     ]
    }
   ],
   "source": [
    "packs = df2['Price'].sum()\n",
    "print(packs)"
   ]
  },
  {
   "cell_type": "code",
   "execution_count": 21,
   "metadata": {
    "collapsed": false
   },
   "outputs": [
    {
     "name": "stdout",
     "output_type": "stream",
     "text": [
      "1959.48\n"
     ]
    }
   ],
   "source": [
    "songs = total - packs\n",
    "print(songs)"
   ]
  },
  {
   "cell_type": "code",
   "execution_count": 22,
   "metadata": {
    "collapsed": false
   },
   "outputs": [
    {
     "name": "stdout",
     "output_type": "stream",
     "text": [
      "Total for  Both:  3493.97\n",
      "Total for Songs:  1959.48\n",
      "Total for Packs:  1534.49\n"
     ]
    }
   ],
   "source": [
    "print ('Total for  Both: ', total)\n",
    "print ('Total for Songs: ', songs)\n",
    "print ('Total for Packs: ', packs)"
   ]
  }
 ],
 "metadata": {
  "kernelspec": {
   "display_name": "Python 3",
   "language": "python",
   "name": "python3"
  },
  "language_info": {
   "codemirror_mode": {
    "name": "ipython",
    "version": 3
   },
   "file_extension": ".py",
   "mimetype": "text/x-python",
   "name": "python",
   "nbconvert_exporter": "python",
   "pygments_lexer": "ipython3",
   "version": "3.5.2"
  }
 },
 "nbformat": 4,
 "nbformat_minor": 0
}
