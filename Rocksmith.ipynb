{
 "cells": [
  {
   "cell_type": "code",
   "execution_count": 1,
   "metadata": {
    "collapsed": false
   },
   "outputs": [
    {
     "name": "stdout",
     "output_type": "stream",
     "text": [
      "Python version 3.5.2 (v3.5.2:4def2a2901a5, Jun 26 2016, 10:47:25) \n",
      "[GCC 4.2.1 (Apple Inc. build 5666) (dot 3)]\n",
      "Pandas version 0.19.0\n",
      "Matplotlib version 1.5.3\n"
     ]
    }
   ],
   "source": [
    "from urllib.request import urlopen\n",
    "from bs4 import BeautifulSoup\n",
    "import itertools\n",
    "import csv\n",
    "import os\n",
    "import matplotlib.pyplot as plt\n",
    "import pandas as pd\n",
    "import sys\n",
    "import matplotlib\n",
    "import numpy as np\n",
    "\n",
    "%matplotlib inline\n",
    "\n",
    "# Print Versions\n",
    "print('Python version ' + sys.version)\n",
    "print('Pandas version ' + pd.__version__)\n",
    "print('Matplotlib version ' + matplotlib.__version__)"
   ]
  },
  {
   "cell_type": "code",
   "execution_count": 2,
   "metadata": {
    "collapsed": true
   },
   "outputs": [],
   "source": [
    "if not os.path.exists('./data'):\n",
    "    os.makedirs('./data')"
   ]
  },
  {
   "cell_type": "code",
   "execution_count": 3,
   "metadata": {
    "collapsed": true
   },
   "outputs": [],
   "source": [
    "with open('./data/dlc.csv', 'w') as csvfile:\n",
    "    csvwriter = csv.writer( csvfile)\n",
    "\n",
    "    html = urlopen('http://store.steampowered.com/app/221680/')\n",
    "    bsObj = BeautifulSoup(html, 'html.parser')\n",
    "\n",
    "    nameList = bsObj.findAll('div', {'class':'game_area_dlc_name'})\n",
    "    priceList = bsObj.findAll('div', {'class':'game_area_dlc_price'})\n",
    "    \n",
    "\n",
    "    for name, price in itertools.zip_longest(list(nameList), list(priceList)):\n",
    "       csvwriter.writerow([(name.get_text()).strip(), (price.get_text()).strip()])\n",
    "pass"
   ]
  },
  {
   "cell_type": "code",
   "execution_count": 4,
   "metadata": {
    "collapsed": true
   },
   "outputs": [],
   "source": [
    "df = pd.read_csv('./data/dlc.csv', header=None)"
   ]
  },
  {
   "cell_type": "code",
   "execution_count": 5,
   "metadata": {
    "collapsed": false
   },
   "outputs": [
    {
     "data": {
      "text/plain": [
       "(803, 2)"
      ]
     },
     "execution_count": 5,
     "metadata": {},
     "output_type": "execute_result"
    }
   ],
   "source": [
    "df.shape"
   ]
  },
  {
   "cell_type": "code",
   "execution_count": 6,
   "metadata": {
    "collapsed": true
   },
   "outputs": [],
   "source": [
    "pack = df[0].str.contains('Song Pack')"
   ]
  },
  {
   "cell_type": "code",
   "execution_count": 7,
   "metadata": {
    "collapsed": true
   },
   "outputs": [],
   "source": [
    "df[pack].to_csv('./data/pack.csv', encoding='utf-8')"
   ]
  },
  {
   "cell_type": "code",
   "execution_count": 8,
   "metadata": {
    "collapsed": true
   },
   "outputs": [],
   "source": [
    "df[df.columns[1:]] = df[df.columns[1:]].apply(lambda x: x.str.replace('$','')).apply(lambda x: x.str.replace(',','')).astype(np.float64)"
   ]
  },
  {
   "cell_type": "code",
   "execution_count": 9,
   "metadata": {
    "collapsed": false
   },
   "outputs": [],
   "source": [
    "df.columns = ['Song / Song Pack', 'Price']"
   ]
  },
  {
   "cell_type": "code",
   "execution_count": 10,
   "metadata": {
    "collapsed": false
   },
   "outputs": [
    {
     "data": {
      "text/html": [
       "<div>\n",
       "<table border=\"1\" class=\"dataframe\">\n",
       "  <thead>\n",
       "    <tr style=\"text-align: right;\">\n",
       "      <th></th>\n",
       "      <th>Song / Song Pack</th>\n",
       "      <th>Price</th>\n",
       "    </tr>\n",
       "  </thead>\n",
       "  <tbody>\n",
       "    <tr>\n",
       "      <th>0</th>\n",
       "      <td>Rocksmith® 2014 – Jet - “Are You Gonna Be My G...</td>\n",
       "      <td>2.99</td>\n",
       "    </tr>\n",
       "    <tr>\n",
       "      <th>1</th>\n",
       "      <td>Rocksmith® 2014 – Def Leppard - “Rock of Ages”</td>\n",
       "      <td>2.99</td>\n",
       "    </tr>\n",
       "    <tr>\n",
       "      <th>2</th>\n",
       "      <td>Rocksmith® 2014 – Fleetwood Mac - “Go Your Own...</td>\n",
       "      <td>2.99</td>\n",
       "    </tr>\n",
       "    <tr>\n",
       "      <th>3</th>\n",
       "      <td>Rocksmith® 2014 – Kansas - “Dust In the Wind”</td>\n",
       "      <td>2.99</td>\n",
       "    </tr>\n",
       "    <tr>\n",
       "      <th>4</th>\n",
       "      <td>Rocksmith® 2014 – Hit Singles Song Pack</td>\n",
       "      <td>9.99</td>\n",
       "    </tr>\n",
       "    <tr>\n",
       "      <th>5</th>\n",
       "      <td>Rocksmith® 2014 – The Cure - “Friday I’m In Love”</td>\n",
       "      <td>2.99</td>\n",
       "    </tr>\n",
       "    <tr>\n",
       "      <th>6</th>\n",
       "      <td>Rocksmith® 2014 – Slayer - “Raining Blood”</td>\n",
       "      <td>2.99</td>\n",
       "    </tr>\n",
       "    <tr>\n",
       "      <th>7</th>\n",
       "      <td>Rocksmith® 2014 – Slayer - “Angel of Death”</td>\n",
       "      <td>2.99</td>\n",
       "    </tr>\n",
       "    <tr>\n",
       "      <th>8</th>\n",
       "      <td>Rocksmith® 2014 – Slayer - “Seasons in the Abyss”</td>\n",
       "      <td>2.99</td>\n",
       "    </tr>\n",
       "    <tr>\n",
       "      <th>9</th>\n",
       "      <td>Rocksmith® 2014 – Slayer - “South of Heaven”</td>\n",
       "      <td>2.99</td>\n",
       "    </tr>\n",
       "  </tbody>\n",
       "</table>\n",
       "</div>"
      ],
      "text/plain": [
       "                                    Song / Song Pack  Price\n",
       "0  Rocksmith® 2014 – Jet - “Are You Gonna Be My G...   2.99\n",
       "1     Rocksmith® 2014 – Def Leppard - “Rock of Ages”   2.99\n",
       "2  Rocksmith® 2014 – Fleetwood Mac - “Go Your Own...   2.99\n",
       "3      Rocksmith® 2014 – Kansas - “Dust In the Wind”   2.99\n",
       "4            Rocksmith® 2014 – Hit Singles Song Pack   9.99\n",
       "5  Rocksmith® 2014 – The Cure - “Friday I’m In Love”   2.99\n",
       "6         Rocksmith® 2014 – Slayer - “Raining Blood”   2.99\n",
       "7        Rocksmith® 2014 – Slayer - “Angel of Death”   2.99\n",
       "8  Rocksmith® 2014 – Slayer - “Seasons in the Abyss”   2.99\n",
       "9       Rocksmith® 2014 – Slayer - “South of Heaven”   2.99"
      ]
     },
     "execution_count": 10,
     "metadata": {},
     "output_type": "execute_result"
    }
   ],
   "source": [
    "df.head(10)"
   ]
  },
  {
   "cell_type": "code",
   "execution_count": 11,
   "metadata": {
    "collapsed": false
   },
   "outputs": [
    {
     "name": "stdout",
     "output_type": "stream",
     "text": [
      "3493.97\n"
     ]
    }
   ],
   "source": [
    "total = df['Price'].sum()\n",
    "print (total)"
   ]
  },
  {
   "cell_type": "code",
   "execution_count": 12,
   "metadata": {
    "collapsed": true
   },
   "outputs": [],
   "source": [
    "df2 = pd.read_csv(\"./data/pack.csv\", header=None)"
   ]
  },
  {
   "cell_type": "code",
   "execution_count": 13,
   "metadata": {
    "collapsed": true
   },
   "outputs": [],
   "source": [
    "df2[df2.columns[2:]] = df2[df2.columns[2:]].apply(lambda x: x.str.replace('$','')).apply(lambda x: x.str.replace(',','')).astype(np.float64)"
   ]
  },
  {
   "cell_type": "code",
   "execution_count": 14,
   "metadata": {
    "collapsed": false
   },
   "outputs": [
    {
     "data": {
      "text/plain": [
       "(152, 3)"
      ]
     },
     "execution_count": 14,
     "metadata": {},
     "output_type": "execute_result"
    }
   ],
   "source": [
    "df2.shape"
   ]
  },
  {
   "cell_type": "code",
   "execution_count": 15,
   "metadata": {
    "collapsed": true
   },
   "outputs": [],
   "source": [
    "df2.columns = ['List #', 'Song Pack', 'Price']"
   ]
  },
  {
   "cell_type": "code",
   "execution_count": 16,
   "metadata": {
    "collapsed": false
   },
   "outputs": [
    {
     "data": {
      "text/html": [
       "<div>\n",
       "<table border=\"1\" class=\"dataframe\">\n",
       "  <thead>\n",
       "    <tr style=\"text-align: right;\">\n",
       "      <th></th>\n",
       "      <th>List #</th>\n",
       "      <th>Song Pack</th>\n",
       "      <th>Price</th>\n",
       "    </tr>\n",
       "  </thead>\n",
       "  <tbody>\n",
       "    <tr>\n",
       "      <th>0</th>\n",
       "      <td>NaN</td>\n",
       "      <td>0</td>\n",
       "      <td>1.00</td>\n",
       "    </tr>\n",
       "    <tr>\n",
       "      <th>1</th>\n",
       "      <td>4.0</td>\n",
       "      <td>Rocksmith® 2014 – Hit Singles Song Pack</td>\n",
       "      <td>9.99</td>\n",
       "    </tr>\n",
       "    <tr>\n",
       "      <th>2</th>\n",
       "      <td>11.0</td>\n",
       "      <td>Rocksmith® 2014 – Slayer Song Pack</td>\n",
       "      <td>11.99</td>\n",
       "    </tr>\n",
       "    <tr>\n",
       "      <th>3</th>\n",
       "      <td>15.0</td>\n",
       "      <td>Rocksmith® 2014 – All That Remains Song Pack</td>\n",
       "      <td>7.99</td>\n",
       "    </tr>\n",
       "    <tr>\n",
       "      <th>4</th>\n",
       "      <td>21.0</td>\n",
       "      <td>Rocksmith® 2014 – Blues Song Pack</td>\n",
       "      <td>11.99</td>\n",
       "    </tr>\n",
       "    <tr>\n",
       "      <th>5</th>\n",
       "      <td>25.0</td>\n",
       "      <td>Rocksmith® 2014 – Dethklok Song Pack</td>\n",
       "      <td>7.99</td>\n",
       "    </tr>\n",
       "    <tr>\n",
       "      <th>6</th>\n",
       "      <td>31.0</td>\n",
       "      <td>Rocksmith® 2014 – Alt-Rock Song Pack</td>\n",
       "      <td>11.99</td>\n",
       "    </tr>\n",
       "    <tr>\n",
       "      <th>7</th>\n",
       "      <td>35.0</td>\n",
       "      <td>Rocksmith® 2014 – Thin Lizzy Song Pack</td>\n",
       "      <td>7.99</td>\n",
       "    </tr>\n",
       "    <tr>\n",
       "      <th>8</th>\n",
       "      <td>40.0</td>\n",
       "      <td>Rocksmith® 2014 – Bush Song Pack</td>\n",
       "      <td>9.99</td>\n",
       "    </tr>\n",
       "    <tr>\n",
       "      <th>9</th>\n",
       "      <td>46.0</td>\n",
       "      <td>Rocksmith® 2014 – Spinal Tap Song Pack</td>\n",
       "      <td>11.99</td>\n",
       "    </tr>\n",
       "  </tbody>\n",
       "</table>\n",
       "</div>"
      ],
      "text/plain": [
       "   List #                                     Song Pack  Price\n",
       "0     NaN                                             0   1.00\n",
       "1     4.0       Rocksmith® 2014 – Hit Singles Song Pack   9.99\n",
       "2    11.0            Rocksmith® 2014 – Slayer Song Pack  11.99\n",
       "3    15.0  Rocksmith® 2014 – All That Remains Song Pack   7.99\n",
       "4    21.0             Rocksmith® 2014 – Blues Song Pack  11.99\n",
       "5    25.0          Rocksmith® 2014 – Dethklok Song Pack   7.99\n",
       "6    31.0          Rocksmith® 2014 – Alt-Rock Song Pack  11.99\n",
       "7    35.0        Rocksmith® 2014 – Thin Lizzy Song Pack   7.99\n",
       "8    40.0              Rocksmith® 2014 – Bush Song Pack   9.99\n",
       "9    46.0        Rocksmith® 2014 – Spinal Tap Song Pack  11.99"
      ]
     },
     "execution_count": 16,
     "metadata": {},
     "output_type": "execute_result"
    }
   ],
   "source": [
    "df2.head(10)"
   ]
  },
  {
   "cell_type": "code",
   "execution_count": 17,
   "metadata": {
    "collapsed": false
   },
   "outputs": [],
   "source": [
    "df2 = df2[df2['Price'] != 1.00]\n",
    "df2 = df2.drop('List #', 1)"
   ]
  },
  {
   "cell_type": "code",
   "execution_count": 18,
   "metadata": {
    "collapsed": false
   },
   "outputs": [
    {
     "data": {
      "text/html": [
       "<div>\n",
       "<table border=\"1\" class=\"dataframe\">\n",
       "  <thead>\n",
       "    <tr style=\"text-align: right;\">\n",
       "      <th></th>\n",
       "      <th>Song Pack</th>\n",
       "      <th>Price</th>\n",
       "    </tr>\n",
       "  </thead>\n",
       "  <tbody>\n",
       "    <tr>\n",
       "      <th>1</th>\n",
       "      <td>Rocksmith® 2014 – Hit Singles Song Pack</td>\n",
       "      <td>9.99</td>\n",
       "    </tr>\n",
       "    <tr>\n",
       "      <th>2</th>\n",
       "      <td>Rocksmith® 2014 – Slayer Song Pack</td>\n",
       "      <td>11.99</td>\n",
       "    </tr>\n",
       "    <tr>\n",
       "      <th>3</th>\n",
       "      <td>Rocksmith® 2014 – All That Remains Song Pack</td>\n",
       "      <td>7.99</td>\n",
       "    </tr>\n",
       "    <tr>\n",
       "      <th>4</th>\n",
       "      <td>Rocksmith® 2014 – Blues Song Pack</td>\n",
       "      <td>11.99</td>\n",
       "    </tr>\n",
       "    <tr>\n",
       "      <th>5</th>\n",
       "      <td>Rocksmith® 2014 – Dethklok Song Pack</td>\n",
       "      <td>7.99</td>\n",
       "    </tr>\n",
       "    <tr>\n",
       "      <th>6</th>\n",
       "      <td>Rocksmith® 2014 – Alt-Rock Song Pack</td>\n",
       "      <td>11.99</td>\n",
       "    </tr>\n",
       "    <tr>\n",
       "      <th>7</th>\n",
       "      <td>Rocksmith® 2014 – Thin Lizzy Song Pack</td>\n",
       "      <td>7.99</td>\n",
       "    </tr>\n",
       "    <tr>\n",
       "      <th>8</th>\n",
       "      <td>Rocksmith® 2014 – Bush Song Pack</td>\n",
       "      <td>9.99</td>\n",
       "    </tr>\n",
       "    <tr>\n",
       "      <th>9</th>\n",
       "      <td>Rocksmith® 2014 – Spinal Tap Song Pack</td>\n",
       "      <td>11.99</td>\n",
       "    </tr>\n",
       "    <tr>\n",
       "      <th>10</th>\n",
       "      <td>Rocksmith® 2014 – Anthrax Song Pack</td>\n",
       "      <td>9.99</td>\n",
       "    </tr>\n",
       "  </tbody>\n",
       "</table>\n",
       "</div>"
      ],
      "text/plain": [
       "                                       Song Pack  Price\n",
       "1        Rocksmith® 2014 – Hit Singles Song Pack   9.99\n",
       "2             Rocksmith® 2014 – Slayer Song Pack  11.99\n",
       "3   Rocksmith® 2014 – All That Remains Song Pack   7.99\n",
       "4              Rocksmith® 2014 – Blues Song Pack  11.99\n",
       "5           Rocksmith® 2014 – Dethklok Song Pack   7.99\n",
       "6           Rocksmith® 2014 – Alt-Rock Song Pack  11.99\n",
       "7         Rocksmith® 2014 – Thin Lizzy Song Pack   7.99\n",
       "8               Rocksmith® 2014 – Bush Song Pack   9.99\n",
       "9         Rocksmith® 2014 – Spinal Tap Song Pack  11.99\n",
       "10           Rocksmith® 2014 – Anthrax Song Pack   9.99"
      ]
     },
     "execution_count": 18,
     "metadata": {},
     "output_type": "execute_result"
    }
   ],
   "source": [
    "df2.head(10)"
   ]
  },
  {
   "cell_type": "code",
   "execution_count": 19,
   "metadata": {
    "collapsed": false
   },
   "outputs": [
    {
     "name": "stdout",
     "output_type": "stream",
     "text": [
      "1534.49\n"
     ]
    }
   ],
   "source": [
    "packs = df2['Price'].sum()\n",
    "print(packs)"
   ]
  },
  {
   "cell_type": "code",
   "execution_count": 20,
   "metadata": {
    "collapsed": false
   },
   "outputs": [
    {
     "name": "stdout",
     "output_type": "stream",
     "text": [
      "1959.48\n"
     ]
    }
   ],
   "source": [
    "songs = total - packs\n",
    "print(songs)"
   ]
  },
  {
   "cell_type": "code",
   "execution_count": 21,
   "metadata": {
    "collapsed": false
   },
   "outputs": [
    {
     "name": "stdout",
     "output_type": "stream",
     "text": [
      "Total for  Both:  3493.97\n",
      "Total for Songs:  1959.48\n",
      "Total for Packs:  1534.49\n"
     ]
    }
   ],
   "source": [
    "print ('Total for  Both: ', total)\n",
    "print ('Total for Songs: ', songs)\n",
    "print ('Total for Packs: ', packs)"
   ]
  },
  {
   "cell_type": "code",
   "execution_count": 22,
   "metadata": {
    "collapsed": false,
    "scrolled": true
   },
   "outputs": [
    {
     "data": {
      "text/plain": [
       "<matplotlib.axes._subplots.AxesSubplot at 0x1050ea7b8>"
      ]
     },
     "execution_count": 22,
     "metadata": {},
     "output_type": "execute_result"
    },
    {
     "data": {
      "image/png": "[encoded data removed]",
      "text/plain": [
       "<matplotlib.figure.Figure at 0x10cde0320>"
      ]
     },
     "metadata": {},
     "output_type": "display_data"
    }
   ],
   "source": [
    "pack_price = df2.sort_values(by='Price', ascending=0)['Price']\n",
    "pack_price[:152].plot(kind='bar', figsize=(40, 10), color='k')\n",
    "# Graph of Pack Prices"
   ]
  }
 ],
 "metadata": {
  "kernelspec": {
   "display_name": "Python 3",
   "language": "python",
   "name": "python3"
  },
  "language_info": {
   "codemirror_mode": {
    "name": "ipython",
    "version": 3
   },
   "file_extension": ".py",
   "mimetype": "text/x-python",
   "name": "python",
   "nbconvert_exporter": "python",
   "pygments_lexer": "ipython3",
   "version": "3.5.2"
  }
 },
 "nbformat": 4,
 "nbformat_minor": 0
}
